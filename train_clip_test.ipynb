{
 "cells": [
  {
   "cell_type": "code",
   "execution_count": 1,
   "id": "191fc804",
   "metadata": {},
   "outputs": [],
   "source": [
    "from src.CLIP import CLIP, text_encoder\n",
    "import torch\n",
    "from src.io import Image_Text_Dataset\n",
    "from src.Trainer import train_clip\n",
    "import numpy as np\n",
    "from torch.utils.data import DataLoader, random_split, ConcatDataset"
   ]
  },
  {
   "cell_type": "code",
   "execution_count": 2,
   "id": "1af20119",
   "metadata": {},
   "outputs": [],
   "source": [
    "device = 'cuda' if torch.cuda.is_available() else 'cpu'"
   ]
  },
  {
   "cell_type": "code",
   "execution_count": 3,
   "id": "1c443ccc",
   "metadata": {},
   "outputs": [
    {
     "name": "stderr",
     "output_type": "stream",
     "text": [
      "/home/manth145/.local/lib/python3.8/site-packages/huggingface_hub/file_download.py:1132: FutureWarning: `resume_download` is deprecated and will be removed in version 1.0.0. Downloads always resume when possible. If you want to force a new download, use `force_download=True`.\n",
      "  warnings.warn(\n",
      "100%|███████████████████████████████████████████████████████████████████████████████████████████████████| 28123/28123 [00:10<00:00, 2740.88it/s]"
     ]
    },
    {
     "name": "stdout",
     "output_type": "stream",
     "text": [
      "Found 28123 images with no NaNs\n"
     ]
    },
    {
     "name": "stderr",
     "output_type": "stream",
     "text": [
      "\n"
     ]
    }
   ],
   "source": [
    "illustris_tng_100_dataset1 = Image_Text_Dataset(fits_file='/d1/manth145/UVCANDELS/synthetic_images/hlsp_illustris_hst_acs_tng100-7-6-yxz_f814w_v1_sim.fits', cutout_size=64)"
   ]
  },
  {
   "cell_type": "code",
   "execution_count": 4,
   "id": "59a6896e",
   "metadata": {},
   "outputs": [],
   "source": [
    "train_val_split = 0.9\n",
    "batch_size = 32\n",
    "nworkers = 6\n",
    "\n",
    "dataloader = DataLoader(illustris_tng_100_dataset1, batch_size=batch_size, shuffle=True, pin_memory=True, num_workers=nworkers, persistent_workers=True)"
   ]
  },
  {
   "cell_type": "code",
   "execution_count": 5,
   "id": "ec2eeead",
   "metadata": {},
   "outputs": [],
   "source": [
    "something, condition = next(iter(dataloader))"
   ]
  },
  {
   "cell_type": "code",
   "execution_count": 6,
   "id": "a580ab63",
   "metadata": {},
   "outputs": [],
   "source": [
    "# txt_encoder = text_encoder(128)"
   ]
  },
  {
   "cell_type": "code",
   "execution_count": 7,
   "id": "60ad81f7",
   "metadata": {},
   "outputs": [],
   "source": [
    "# txt_encoder(condition)"
   ]
  },
  {
   "cell_type": "code",
   "execution_count": 5,
   "id": "51a73677",
   "metadata": {},
   "outputs": [
    {
     "name": "stderr",
     "output_type": "stream",
     "text": [
      "/home/manth145/.local/lib/python3.8/site-packages/torchvision/models/_utils.py:208: UserWarning: The parameter 'pretrained' is deprecated since 0.13 and may be removed in the future, please use 'weights' instead.\n",
      "  warnings.warn(\n",
      "/home/manth145/.local/lib/python3.8/site-packages/torchvision/models/_utils.py:223: UserWarning: Arguments other than a weight enum or `None` for 'weights' are deprecated since 0.13 and may be removed in the future. The current behavior is equivalent to passing `weights=ResNet50_Weights.IMAGENET1K_V1`. You can also use `weights=ResNet50_Weights.DEFAULT` to get the most up-to-date weights.\n",
      "  warnings.warn(msg)\n"
     ]
    },
    {
     "name": "stdout",
     "output_type": "stream",
     "text": [
      "50000\n",
      "Epoch 0\n",
      "-------------------------------------------------------\n"
     ]
    },
    {
     "name": "stderr",
     "output_type": "stream",
     "text": [
      "Training: 100%|████████████████████████████████████████████████████████████████████| 879/879 [00:30<00:00, 29.06it/s, Loss: 3.1807, Scale: 10.0]\n"
     ]
    },
    {
     "name": "stdout",
     "output_type": "stream",
     "text": [
      "Epoch 1 completed. Average Loss: 3.1807\n",
      "Saved Model ./checkpoints//clip_checkpoint_epoch_0.pt\n",
      "Epoch 1\n",
      "-------------------------------------------------------\n"
     ]
    },
    {
     "name": "stderr",
     "output_type": "stream",
     "text": [
      "Training: 100%|█████████████████████████████████████████████████████████████████████| 879/879 [00:28<00:00, 30.89it/s, Loss: 2.5845, Scale: 9.9]\n"
     ]
    },
    {
     "name": "stdout",
     "output_type": "stream",
     "text": [
      "Epoch 2 completed. Average Loss: 2.5845\n",
      "Epoch 2\n",
      "-------------------------------------------------------\n"
     ]
    },
    {
     "name": "stderr",
     "output_type": "stream",
     "text": [
      "Training: 100%|█████████████████████████████████████████████████████████████████████| 879/879 [00:29<00:00, 30.20it/s, Loss: 2.3299, Scale: 9.9]\n"
     ]
    },
    {
     "name": "stdout",
     "output_type": "stream",
     "text": [
      "Epoch 3 completed. Average Loss: 2.3299\n",
      "Epoch 3\n",
      "-------------------------------------------------------\n"
     ]
    },
    {
     "name": "stderr",
     "output_type": "stream",
     "text": [
      "Training: 100%|█████████████████████████████████████████████████████████████████████| 879/879 [00:29<00:00, 30.06it/s, Loss: 2.1280, Scale: 9.9]\n"
     ]
    },
    {
     "name": "stdout",
     "output_type": "stream",
     "text": [
      "Epoch 4 completed. Average Loss: 2.1280\n",
      "Epoch 4\n",
      "-------------------------------------------------------\n"
     ]
    },
    {
     "name": "stderr",
     "output_type": "stream",
     "text": [
      "Training: 100%|█████████████████████████████████████████████████████████████████████| 879/879 [00:29<00:00, 30.03it/s, Loss: 2.0205, Scale: 9.9]\n"
     ]
    },
    {
     "name": "stdout",
     "output_type": "stream",
     "text": [
      "Epoch 5 completed. Average Loss: 2.0205\n",
      "Epoch 5\n",
      "-------------------------------------------------------\n"
     ]
    },
    {
     "name": "stderr",
     "output_type": "stream",
     "text": [
      "Training: 100%|█████████████████████████████████████████████████████████████████████| 879/879 [00:29<00:00, 29.87it/s, Loss: 1.9193, Scale: 9.9]\n"
     ]
    },
    {
     "name": "stdout",
     "output_type": "stream",
     "text": [
      "Epoch 6 completed. Average Loss: 1.9193\n",
      "Saved Model ./checkpoints//clip_checkpoint_epoch_5.pt\n",
      "Epoch 6\n",
      "-------------------------------------------------------\n"
     ]
    },
    {
     "name": "stderr",
     "output_type": "stream",
     "text": [
      "Training: 100%|█████████████████████████████████████████████████████████████████████| 879/879 [00:28<00:00, 30.32it/s, Loss: 1.8715, Scale: 9.9]\n"
     ]
    },
    {
     "name": "stdout",
     "output_type": "stream",
     "text": [
      "Epoch 7 completed. Average Loss: 1.8715\n",
      "Epoch 7\n",
      "-------------------------------------------------------\n"
     ]
    },
    {
     "name": "stderr",
     "output_type": "stream",
     "text": [
      "Training: 100%|█████████████████████████████████████████████████████████████████████| 879/879 [00:29<00:00, 29.51it/s, Loss: 1.8694, Scale: 9.9]\n"
     ]
    },
    {
     "name": "stdout",
     "output_type": "stream",
     "text": [
      "Epoch 8 completed. Average Loss: 1.8694\n",
      "Epoch 8\n",
      "-------------------------------------------------------\n"
     ]
    },
    {
     "name": "stderr",
     "output_type": "stream",
     "text": [
      "Training: 100%|█████████████████████████████████████████████████████████████████████| 879/879 [00:29<00:00, 29.76it/s, Loss: 1.8626, Scale: 9.9]\n"
     ]
    },
    {
     "name": "stdout",
     "output_type": "stream",
     "text": [
      "Epoch 9 completed. Average Loss: 1.8626\n",
      "Epoch 9\n",
      "-------------------------------------------------------\n"
     ]
    },
    {
     "name": "stderr",
     "output_type": "stream",
     "text": [
      "Training: 100%|█████████████████████████████████████████████████████████████████████| 879/879 [00:29<00:00, 29.43it/s, Loss: 1.8279, Scale: 9.9]\n"
     ]
    },
    {
     "name": "stdout",
     "output_type": "stream",
     "text": [
      "Epoch 10 completed. Average Loss: 1.8279\n",
      "Epoch 10\n",
      "-------------------------------------------------------\n"
     ]
    },
    {
     "name": "stderr",
     "output_type": "stream",
     "text": [
      "Training: 100%|████████████████████████████████████████████████████████████████████| 879/879 [00:30<00:00, 29.00it/s, Loss: 1.7445, Scale: 10.0]\n"
     ]
    },
    {
     "name": "stdout",
     "output_type": "stream",
     "text": [
      "Epoch 11 completed. Average Loss: 1.7445\n",
      "Saved Model ./checkpoints//clip_checkpoint_epoch_10.pt\n",
      "Epoch 11\n",
      "-------------------------------------------------------\n"
     ]
    },
    {
     "name": "stderr",
     "output_type": "stream",
     "text": [
      "Training: 100%|████████████████████████████████████████████████████████████████████| 879/879 [00:29<00:00, 30.03it/s, Loss: 1.6332, Scale: 10.0]\n"
     ]
    },
    {
     "name": "stdout",
     "output_type": "stream",
     "text": [
      "Epoch 12 completed. Average Loss: 1.6332\n",
      "Epoch 12\n",
      "-------------------------------------------------------\n"
     ]
    },
    {
     "name": "stderr",
     "output_type": "stream",
     "text": [
      "Training: 100%|████████████████████████████████████████████████████████████████████| 879/879 [00:30<00:00, 28.48it/s, Loss: 1.5222, Scale: 10.1]\n"
     ]
    },
    {
     "name": "stdout",
     "output_type": "stream",
     "text": [
      "Epoch 13 completed. Average Loss: 1.5222\n",
      "Epoch 13\n",
      "-------------------------------------------------------\n"
     ]
    },
    {
     "name": "stderr",
     "output_type": "stream",
     "text": [
      "Training: 100%|████████████████████████████████████████████████████████████████████| 879/879 [00:29<00:00, 29.45it/s, Loss: 1.4070, Scale: 10.3]\n"
     ]
    },
    {
     "name": "stdout",
     "output_type": "stream",
     "text": [
      "Epoch 14 completed. Average Loss: 1.4070\n",
      "Epoch 14\n",
      "-------------------------------------------------------\n"
     ]
    },
    {
     "name": "stderr",
     "output_type": "stream",
     "text": [
      "Training: 100%|████████████████████████████████████████████████████████████████████| 879/879 [00:29<00:00, 30.20it/s, Loss: 1.2823, Scale: 10.4]\n"
     ]
    },
    {
     "name": "stdout",
     "output_type": "stream",
     "text": [
      "Epoch 15 completed. Average Loss: 1.2823\n",
      "Epoch 15\n",
      "-------------------------------------------------------\n"
     ]
    },
    {
     "name": "stderr",
     "output_type": "stream",
     "text": [
      "Training: 100%|████████████████████████████████████████████████████████████████████| 879/879 [00:29<00:00, 30.16it/s, Loss: 1.1640, Scale: 10.7]\n"
     ]
    },
    {
     "name": "stdout",
     "output_type": "stream",
     "text": [
      "Epoch 16 completed. Average Loss: 1.1640\n",
      "Saved Model ./checkpoints//clip_checkpoint_epoch_15.pt\n",
      "Epoch 16\n",
      "-------------------------------------------------------\n"
     ]
    },
    {
     "name": "stderr",
     "output_type": "stream",
     "text": [
      "Training: 100%|████████████████████████████████████████████████████████████████████| 879/879 [00:28<00:00, 30.58it/s, Loss: 1.0615, Scale: 11.0]\n"
     ]
    },
    {
     "name": "stdout",
     "output_type": "stream",
     "text": [
      "Epoch 17 completed. Average Loss: 1.0615\n",
      "Epoch 17\n",
      "-------------------------------------------------------\n"
     ]
    },
    {
     "name": "stderr",
     "output_type": "stream",
     "text": [
      "Training: 100%|████████████████████████████████████████████████████████████████████| 879/879 [00:29<00:00, 30.27it/s, Loss: 0.9838, Scale: 11.3]\n"
     ]
    },
    {
     "name": "stdout",
     "output_type": "stream",
     "text": [
      "Epoch 18 completed. Average Loss: 0.9838\n",
      "Epoch 18\n",
      "-------------------------------------------------------\n"
     ]
    },
    {
     "name": "stderr",
     "output_type": "stream",
     "text": [
      "Training: 100%|████████████████████████████████████████████████████████████████████| 879/879 [00:28<00:00, 30.62it/s, Loss: 0.8944, Scale: 11.6]\n"
     ]
    },
    {
     "name": "stdout",
     "output_type": "stream",
     "text": [
      "Epoch 19 completed. Average Loss: 0.8944\n",
      "Epoch 19\n",
      "-------------------------------------------------------\n"
     ]
    },
    {
     "name": "stderr",
     "output_type": "stream",
     "text": [
      "Training: 100%|████████████████████████████████████████████████████████████████████| 879/879 [00:29<00:00, 29.99it/s, Loss: 0.8109, Scale: 11.9]\n"
     ]
    },
    {
     "name": "stdout",
     "output_type": "stream",
     "text": [
      "Epoch 20 completed. Average Loss: 0.8109\n",
      "Epoch 20\n",
      "-------------------------------------------------------\n"
     ]
    },
    {
     "name": "stderr",
     "output_type": "stream",
     "text": [
      "Training: 100%|████████████████████████████████████████████████████████████████████| 879/879 [00:29<00:00, 29.66it/s, Loss: 0.7494, Scale: 12.3]\n"
     ]
    },
    {
     "name": "stdout",
     "output_type": "stream",
     "text": [
      "Epoch 21 completed. Average Loss: 0.7494\n",
      "Saved Model ./checkpoints//clip_checkpoint_epoch_20.pt\n",
      "Epoch 21\n",
      "-------------------------------------------------------\n"
     ]
    },
    {
     "name": "stderr",
     "output_type": "stream",
     "text": [
      "Training: 100%|████████████████████████████████████████████████████████████████████| 879/879 [00:29<00:00, 29.83it/s, Loss: 0.6962, Scale: 12.7]\n"
     ]
    },
    {
     "name": "stdout",
     "output_type": "stream",
     "text": [
      "Epoch 22 completed. Average Loss: 0.6962\n",
      "Epoch 22\n",
      "-------------------------------------------------------\n"
     ]
    },
    {
     "name": "stderr",
     "output_type": "stream",
     "text": [
      "Training: 100%|████████████████████████████████████████████████████████████████████| 879/879 [00:29<00:00, 30.21it/s, Loss: 0.6495, Scale: 13.1]\n"
     ]
    },
    {
     "name": "stdout",
     "output_type": "stream",
     "text": [
      "Epoch 23 completed. Average Loss: 0.6495\n",
      "Epoch 23\n",
      "-------------------------------------------------------\n"
     ]
    },
    {
     "name": "stderr",
     "output_type": "stream",
     "text": [
      "Training: 100%|████████████████████████████████████████████████████████████████████| 879/879 [00:29<00:00, 29.64it/s, Loss: 0.5996, Scale: 13.5]\n"
     ]
    },
    {
     "name": "stdout",
     "output_type": "stream",
     "text": [
      "Epoch 24 completed. Average Loss: 0.5996\n",
      "Epoch 24\n",
      "-------------------------------------------------------\n"
     ]
    },
    {
     "name": "stderr",
     "output_type": "stream",
     "text": [
      "Training: 100%|████████████████████████████████████████████████████████████████████| 879/879 [00:29<00:00, 29.76it/s, Loss: 0.5555, Scale: 13.9]\n"
     ]
    },
    {
     "name": "stdout",
     "output_type": "stream",
     "text": [
      "Epoch 25 completed. Average Loss: 0.5555\n",
      "Epoch 25\n",
      "-------------------------------------------------------\n"
     ]
    },
    {
     "name": "stderr",
     "output_type": "stream",
     "text": [
      "Training: 100%|████████████████████████████████████████████████████████████████████| 879/879 [00:29<00:00, 29.68it/s, Loss: 0.5333, Scale: 14.2]\n"
     ]
    },
    {
     "name": "stdout",
     "output_type": "stream",
     "text": [
      "Epoch 26 completed. Average Loss: 0.5333\n",
      "Saved Model ./checkpoints//clip_checkpoint_epoch_25.pt\n",
      "Epoch 26\n",
      "-------------------------------------------------------\n"
     ]
    },
    {
     "name": "stderr",
     "output_type": "stream",
     "text": [
      "Training: 100%|████████████████████████████████████████████████████████████████████| 879/879 [00:29<00:00, 30.17it/s, Loss: 0.4978, Scale: 14.6]\n"
     ]
    },
    {
     "name": "stdout",
     "output_type": "stream",
     "text": [
      "Epoch 27 completed. Average Loss: 0.4978\n",
      "Epoch 27\n",
      "-------------------------------------------------------\n"
     ]
    },
    {
     "name": "stderr",
     "output_type": "stream",
     "text": [
      "Training: 100%|████████████████████████████████████████████████████████████████████| 879/879 [00:29<00:00, 29.92it/s, Loss: 0.4678, Scale: 15.0]\n"
     ]
    },
    {
     "name": "stdout",
     "output_type": "stream",
     "text": [
      "Epoch 28 completed. Average Loss: 0.4678\n",
      "Epoch 28\n",
      "-------------------------------------------------------\n"
     ]
    },
    {
     "name": "stderr",
     "output_type": "stream",
     "text": [
      "Training: 100%|████████████████████████████████████████████████████████████████████| 879/879 [00:29<00:00, 29.53it/s, Loss: 0.4517, Scale: 15.3]\n"
     ]
    },
    {
     "name": "stdout",
     "output_type": "stream",
     "text": [
      "Epoch 29 completed. Average Loss: 0.4517\n",
      "Epoch 29\n",
      "-------------------------------------------------------\n"
     ]
    },
    {
     "name": "stderr",
     "output_type": "stream",
     "text": [
      "Training: 100%|████████████████████████████████████████████████████████████████████| 879/879 [00:29<00:00, 29.94it/s, Loss: 0.4282, Scale: 15.7]\n"
     ]
    },
    {
     "name": "stdout",
     "output_type": "stream",
     "text": [
      "Epoch 30 completed. Average Loss: 0.4282\n",
      "Epoch 30\n",
      "-------------------------------------------------------\n"
     ]
    },
    {
     "name": "stderr",
     "output_type": "stream",
     "text": [
      "Training: 100%|████████████████████████████████████████████████████████████████████| 879/879 [00:29<00:00, 30.08it/s, Loss: 0.4060, Scale: 16.1]\n"
     ]
    },
    {
     "name": "stdout",
     "output_type": "stream",
     "text": [
      "Epoch 31 completed. Average Loss: 0.4060\n",
      "Saved Model ./checkpoints//clip_checkpoint_epoch_30.pt\n",
      "Epoch 31\n",
      "-------------------------------------------------------\n"
     ]
    },
    {
     "name": "stderr",
     "output_type": "stream",
     "text": [
      "Training: 100%|████████████████████████████████████████████████████████████████████| 879/879 [00:30<00:00, 28.78it/s, Loss: 0.3777, Scale: 16.5]\n"
     ]
    },
    {
     "name": "stdout",
     "output_type": "stream",
     "text": [
      "Epoch 32 completed. Average Loss: 0.3777\n",
      "Epoch 32\n",
      "-------------------------------------------------------\n"
     ]
    },
    {
     "name": "stderr",
     "output_type": "stream",
     "text": [
      "Training: 100%|████████████████████████████████████████████████████████████████████| 879/879 [00:29<00:00, 30.15it/s, Loss: 0.3704, Scale: 16.8]\n"
     ]
    },
    {
     "name": "stdout",
     "output_type": "stream",
     "text": [
      "Epoch 33 completed. Average Loss: 0.3704\n",
      "Epoch 33\n",
      "-------------------------------------------------------\n"
     ]
    },
    {
     "name": "stderr",
     "output_type": "stream",
     "text": [
      "Training: 100%|████████████████████████████████████████████████████████████████████| 879/879 [00:29<00:00, 29.72it/s, Loss: 0.3576, Scale: 17.1]\n"
     ]
    },
    {
     "name": "stdout",
     "output_type": "stream",
     "text": [
      "Epoch 34 completed. Average Loss: 0.3576\n",
      "Epoch 34\n",
      "-------------------------------------------------------\n"
     ]
    },
    {
     "name": "stderr",
     "output_type": "stream",
     "text": [
      "Training: 100%|████████████████████████████████████████████████████████████████████| 879/879 [00:29<00:00, 30.05it/s, Loss: 0.3408, Scale: 17.4]\n"
     ]
    },
    {
     "name": "stdout",
     "output_type": "stream",
     "text": [
      "Epoch 35 completed. Average Loss: 0.3408\n",
      "Epoch 35\n",
      "-------------------------------------------------------\n"
     ]
    },
    {
     "name": "stderr",
     "output_type": "stream",
     "text": [
      "Training: 100%|████████████████████████████████████████████████████████████████████| 879/879 [00:29<00:00, 29.88it/s, Loss: 0.3258, Scale: 17.7]\n"
     ]
    },
    {
     "name": "stdout",
     "output_type": "stream",
     "text": [
      "Epoch 36 completed. Average Loss: 0.3258\n",
      "Saved Model ./checkpoints//clip_checkpoint_epoch_35.pt\n",
      "Epoch 36\n",
      "-------------------------------------------------------\n"
     ]
    },
    {
     "name": "stderr",
     "output_type": "stream",
     "text": [
      "Training: 100%|████████████████████████████████████████████████████████████████████| 879/879 [00:29<00:00, 29.32it/s, Loss: 0.3157, Scale: 18.0]\n"
     ]
    },
    {
     "name": "stdout",
     "output_type": "stream",
     "text": [
      "Epoch 37 completed. Average Loss: 0.3157\n",
      "Epoch 37\n",
      "-------------------------------------------------------\n"
     ]
    },
    {
     "name": "stderr",
     "output_type": "stream",
     "text": [
      "Training: 100%|████████████████████████████████████████████████████████████████████| 879/879 [00:29<00:00, 29.88it/s, Loss: 0.3097, Scale: 18.3]\n"
     ]
    },
    {
     "name": "stdout",
     "output_type": "stream",
     "text": [
      "Epoch 38 completed. Average Loss: 0.3097\n",
      "Epoch 38\n",
      "-------------------------------------------------------\n"
     ]
    },
    {
     "name": "stderr",
     "output_type": "stream",
     "text": [
      "Training: 100%|████████████████████████████████████████████████████████████████████| 879/879 [00:29<00:00, 29.40it/s, Loss: 0.2988, Scale: 18.6]\n"
     ]
    },
    {
     "name": "stdout",
     "output_type": "stream",
     "text": [
      "Epoch 39 completed. Average Loss: 0.2988\n",
      "Epoch 39\n",
      "-------------------------------------------------------\n"
     ]
    },
    {
     "name": "stderr",
     "output_type": "stream",
     "text": [
      "Training: 100%|████████████████████████████████████████████████████████████████████| 879/879 [00:29<00:00, 30.15it/s, Loss: 0.2912, Scale: 18.8]\n"
     ]
    },
    {
     "name": "stdout",
     "output_type": "stream",
     "text": [
      "Epoch 40 completed. Average Loss: 0.2912\n",
      "Epoch 40\n",
      "-------------------------------------------------------\n"
     ]
    },
    {
     "name": "stderr",
     "output_type": "stream",
     "text": [
      "Training: 100%|████████████████████████████████████████████████████████████████████| 879/879 [00:28<00:00, 30.77it/s, Loss: 0.2808, Scale: 19.0]\n"
     ]
    },
    {
     "name": "stdout",
     "output_type": "stream",
     "text": [
      "Epoch 41 completed. Average Loss: 0.2808\n",
      "Saved Model ./checkpoints//clip_checkpoint_epoch_40.pt\n",
      "Epoch 41\n",
      "-------------------------------------------------------\n"
     ]
    },
    {
     "name": "stderr",
     "output_type": "stream",
     "text": [
      "Training: 100%|████████████████████████████████████████████████████████████████████| 879/879 [00:28<00:00, 30.74it/s, Loss: 0.2675, Scale: 19.3]\n"
     ]
    },
    {
     "name": "stdout",
     "output_type": "stream",
     "text": [
      "Epoch 42 completed. Average Loss: 0.2675\n",
      "Epoch 42\n",
      "-------------------------------------------------------\n"
     ]
    },
    {
     "name": "stderr",
     "output_type": "stream",
     "text": [
      "Training: 100%|████████████████████████████████████████████████████████████████████| 879/879 [00:28<00:00, 30.37it/s, Loss: 0.2592, Scale: 19.5]\n"
     ]
    },
    {
     "name": "stdout",
     "output_type": "stream",
     "text": [
      "Epoch 43 completed. Average Loss: 0.2592\n",
      "Epoch 43\n",
      "-------------------------------------------------------\n"
     ]
    },
    {
     "name": "stderr",
     "output_type": "stream",
     "text": [
      "Training: 100%|████████████████████████████████████████████████████████████████████| 879/879 [00:28<00:00, 30.82it/s, Loss: 0.2517, Scale: 19.8]\n"
     ]
    },
    {
     "name": "stdout",
     "output_type": "stream",
     "text": [
      "Epoch 44 completed. Average Loss: 0.2517\n",
      "Epoch 44\n",
      "-------------------------------------------------------\n"
     ]
    },
    {
     "name": "stderr",
     "output_type": "stream",
     "text": [
      "Training: 100%|████████████████████████████████████████████████████████████████████| 879/879 [00:28<00:00, 30.54it/s, Loss: 0.2493, Scale: 20.0]\n"
     ]
    },
    {
     "name": "stdout",
     "output_type": "stream",
     "text": [
      "Epoch 45 completed. Average Loss: 0.2493\n",
      "Epoch 45\n",
      "-------------------------------------------------------\n"
     ]
    },
    {
     "name": "stderr",
     "output_type": "stream",
     "text": [
      "Training: 100%|████████████████████████████████████████████████████████████████████| 879/879 [00:28<00:00, 30.39it/s, Loss: 0.2420, Scale: 20.2]\n"
     ]
    },
    {
     "name": "stdout",
     "output_type": "stream",
     "text": [
      "Epoch 46 completed. Average Loss: 0.2420\n",
      "Saved Model ./checkpoints//clip_checkpoint_epoch_45.pt\n",
      "Epoch 46\n",
      "-------------------------------------------------------\n"
     ]
    },
    {
     "name": "stderr",
     "output_type": "stream",
     "text": [
      "Training: 100%|████████████████████████████████████████████████████████████████████| 879/879 [00:29<00:00, 29.82it/s, Loss: 0.2367, Scale: 20.5]\n"
     ]
    },
    {
     "name": "stdout",
     "output_type": "stream",
     "text": [
      "Epoch 47 completed. Average Loss: 0.2367\n",
      "Epoch 47\n",
      "-------------------------------------------------------\n"
     ]
    },
    {
     "name": "stderr",
     "output_type": "stream",
     "text": [
      "Training: 100%|████████████████████████████████████████████████████████████████████| 879/879 [00:28<00:00, 30.64it/s, Loss: 0.2296, Scale: 20.7]\n"
     ]
    },
    {
     "name": "stdout",
     "output_type": "stream",
     "text": [
      "Epoch 48 completed. Average Loss: 0.2296\n",
      "Epoch 48\n",
      "-------------------------------------------------------\n"
     ]
    },
    {
     "name": "stderr",
     "output_type": "stream",
     "text": [
      "Training: 100%|████████████████████████████████████████████████████████████████████| 879/879 [00:29<00:00, 30.00it/s, Loss: 0.2263, Scale: 20.8]\n"
     ]
    },
    {
     "name": "stdout",
     "output_type": "stream",
     "text": [
      "Epoch 49 completed. Average Loss: 0.2263\n",
      "Epoch 49\n",
      "-------------------------------------------------------\n"
     ]
    },
    {
     "name": "stderr",
     "output_type": "stream",
     "text": [
      "Training: 100%|████████████████████████████████████████████████████████████████████| 879/879 [00:29<00:00, 29.54it/s, Loss: 0.2236, Scale: 21.0]"
     ]
    },
    {
     "name": "stdout",
     "output_type": "stream",
     "text": [
      "Epoch 50 completed. Average Loss: 0.2236\n"
     ]
    },
    {
     "name": "stderr",
     "output_type": "stream",
     "text": [
      "\n"
     ]
    }
   ],
   "source": [
    "model = CLIP(embed_dim=128, temperature=0.1, vocab_size=50000)\n",
    "\n",
    "trained_model = train_clip(model=model, device=device, train_loader = dataloader, \n",
    "                           learning_rate=1e-4, dest_folder='./checkpoints')\n",
    "\n",
    "# #save the trained model\n",
    "# torch.save(trained_model.state_dict(), 'clip_trained_model.pt')"
   ]
  },
  {
   "cell_type": "code",
   "execution_count": null,
   "id": "3198768a",
   "metadata": {},
   "outputs": [],
   "source": [
    "# from transformers import CLIPTokenizer as HFCLIPTokenizer\n",
    "# tokenizer = HFCLIPTokenizer.from_pretrained(\"openai/clip-vit-base-patch32\", force_download=True)"
   ]
  },
  {
   "cell_type": "code",
   "execution_count": null,
   "id": "6089f444",
   "metadata": {},
   "outputs": [],
   "source": [
    "# tokenizer(\"(P1:1.56), (P2:10.6)\", padding=\"max_length\", max_length = 64, truncation=True)"
   ]
  },
  {
   "cell_type": "code",
   "execution_count": 5,
   "id": "cb4be012",
   "metadata": {},
   "outputs": [
    {
     "data": {
      "text/plain": [
       "{'input_ids': [49406, 263, 335, 272, 281, 272, 13, 2361, 263, 335, 273, 281, 280, 269, 277, 264, 49407, 49407, 49407, 49407, 49407, 49407, 49407, 49407, 49407, 49407, 49407, 49407, 49407, 49407, 49407, 49407, 49407, 49407, 49407, 49407, 49407, 49407, 49407, 49407, 49407, 49407, 49407, 49407, 49407, 49407, 49407, 49407, 49407, 49407, 49407, 49407, 49407, 49407, 49407, 49407, 49407, 49407, 49407, 49407, 49407, 49407, 49407, 49407], 'attention_mask': [1, 1, 1, 1, 1, 1, 1, 1, 1, 1, 1, 1, 1, 1, 1, 1, 1, 0, 0, 0, 0, 0, 0, 0, 0, 0, 0, 0, 0, 0, 0, 0, 0, 0, 0, 0, 0, 0, 0, 0, 0, 0, 0, 0, 0, 0, 0, 0, 0, 0, 0, 0, 0, 0, 0, 0, 0, 0, 0, 0, 0, 0, 0, 0]}"
      ]
     },
     "execution_count": 5,
     "metadata": {},
     "output_type": "execute_result"
    }
   ],
   "source": [
    "# tokenizer(\"(P1:1.), (P2:9.6)\", padding=\"max_length\", max_length = 64, truncation=True)"
   ]
  },
  {
   "cell_type": "code",
   "execution_count": 9,
   "id": "3bded43f",
   "metadata": {},
   "outputs": [
    {
     "data": {
      "image/png": "[encoded data removed]",
      "text/plain": [
       "<Figure size 432x288 with 1 Axes>"
      ]
     },
     "metadata": {
      "needs_background": "light"
     },
     "output_type": "display_data"
    }
   ],
   "source": [
    "import matplotlib.pyplot as plt\n",
    "\n",
    "plt.imshow(something[0,1,:,:].cpu().numpy(), cmap='gray')\n",
    "\n",
    "plt.show()"
   ]
  },
  {
   "cell_type": "code",
   "execution_count": 11,
   "id": "ba04ce08",
   "metadata": {},
   "outputs": [],
   "source": [
    "dest_folder = './checkpoints/'"
   ]
  },
  {
   "cell_type": "code",
   "execution_count": 12,
   "id": "d2775c5f",
   "metadata": {},
   "outputs": [
    {
     "data": {
      "text/plain": [
       "True"
      ]
     },
     "execution_count": 12,
     "metadata": {},
     "output_type": "execute_result"
    }
   ],
   "source": [
    "dest_folder.endswith('/')"
   ]
  },
  {
   "cell_type": "code",
   "execution_count": 1,
   "id": "31831ab4",
   "metadata": {},
   "outputs": [
    {
     "ename": "NameError",
     "evalue": "name 'condition' is not defined",
     "output_type": "error",
     "traceback": [
      "\u001b[0;31m---------------------------------------------------------------------------\u001b[0m",
      "\u001b[0;31mNameError\u001b[0m                                 Traceback (most recent call last)",
      "\u001b[0;32m/tmp/ipykernel_756305/2525313574.py\u001b[0m in \u001b[0;36m<module>\u001b[0;34m\u001b[0m\n\u001b[0;32m----> 1\u001b[0;31m \u001b[0mcondition\u001b[0m\u001b[0;34m.\u001b[0m\u001b[0margmax\u001b[0m\u001b[0;34m(\u001b[0m\u001b[0mdim\u001b[0m\u001b[0;34m=\u001b[0m\u001b[0;34m-\u001b[0m\u001b[0;36m1\u001b[0m\u001b[0;34m)\u001b[0m\u001b[0;34m\u001b[0m\u001b[0;34m\u001b[0m\u001b[0m\n\u001b[0m",
      "\u001b[0;31mNameError\u001b[0m: name 'condition' is not defined"
     ]
    }
   ],
   "source": [
    "condition.argmax(dim=-1)"
   ]
  },
  {
   "cell_type": "code",
   "execution_count": 8,
   "id": "b2982966",
   "metadata": {},
   "outputs": [
    {
     "data": {
      "text/plain": [
       "tensor([21, 21, 21, 21, 21, 21, 21, 21, 21, 21, 21, 21, 21, 20, 20, 21, 21, 21,\n",
       "        21, 21, 21, 21, 21, 20, 21, 21, 21, 20, 21, 22, 21, 20])"
      ]
     },
     "execution_count": 8,
     "metadata": {},
     "output_type": "execute_result"
    }
   ],
   "source": [
    "condition.argmax(dim=-1)"
   ]
  },
  {
   "cell_type": "code",
   "execution_count": 10,
   "id": "985e35e6",
   "metadata": {},
   "outputs": [
    {
     "data": {
      "text/plain": [
       "torch.Size([32, 64])"
      ]
     },
     "execution_count": 10,
     "metadata": {},
     "output_type": "execute_result"
    }
   ],
   "source": [
    "torch.index_select(condition, dim=1, index=condition.argmax(dim=-1)).shape"
   ]
  },
  {
   "cell_type": "code",
   "execution_count": 11,
   "id": "b83c05f0",
   "metadata": {},
   "outputs": [
    {
     "data": {
      "text/plain": [
       "tensor([49407, 49407, 49407, 49407, 49407, 49407, 49407, 49407, 49407, 49407,\n",
       "        49407, 49407, 49407, 49407, 49407, 49407, 49407, 49407, 49407, 49407,\n",
       "        49407, 49407, 49407, 49407, 49407, 49407, 49407, 49407, 49407, 49407,\n",
       "        49407, 49407], dtype=torch.int32)"
      ]
     },
     "execution_count": 11,
     "metadata": {},
     "output_type": "execute_result"
    }
   ],
   "source": [
    "condition[torch.arange(32), condition.argmax(dim=-1)]"
   ]
  },
  {
   "cell_type": "code",
   "execution_count": 7,
   "id": "31dc89d4",
   "metadata": {},
   "outputs": [],
   "source": [
    "some_random_tensor = torch.rand(32, 64, 128)"
   ]
  },
  {
   "cell_type": "code",
   "execution_count": 8,
   "id": "a33a7b7f",
   "metadata": {},
   "outputs": [
    {
     "data": {
      "text/plain": [
       "torch.Size([32, 64, 128])"
      ]
     },
     "execution_count": 8,
     "metadata": {},
     "output_type": "execute_result"
    }
   ],
   "source": [
    "some_random_tensor.shape"
   ]
  },
  {
   "cell_type": "code",
   "execution_count": 10,
   "id": "3d01168c",
   "metadata": {},
   "outputs": [
    {
     "data": {
      "text/plain": [
       "torch.Size([32, 32, 128])"
      ]
     },
     "execution_count": 10,
     "metadata": {},
     "output_type": "execute_result"
    }
   ],
   "source": [
    "torch.index_select(some_random_tensor, dim=1, index=condition.argmax(dim=-1))[0]"
   ]
  },
  {
   "cell_type": "code",
   "execution_count": 10,
   "id": "c43fd0da",
   "metadata": {},
   "outputs": [
    {
     "data": {
      "text/plain": [
       "torch.Size([32, 32, 128])"
      ]
     },
     "execution_count": 10,
     "metadata": {},
     "output_type": "execute_result"
    }
   ],
   "source": [
    "torch.index_select(some_random_tensor, dim=1, index=condition.argmax(dim=-1))[torch.arange(32)].shape"
   ]
  },
  {
   "cell_type": "code",
   "execution_count": 9,
   "id": "70ed68ba",
   "metadata": {},
   "outputs": [
    {
     "data": {
      "text/plain": [
       "torch.Size([32, 128])"
      ]
     },
     "execution_count": 9,
     "metadata": {},
     "output_type": "execute_result"
    }
   ],
   "source": [
    "some_random_tensor[torch.arange(32), (21*torch.ones(32)).to(torch.int32)].shape"
   ]
  },
  {
   "cell_type": "code",
   "execution_count": 8,
   "id": "c9612d4a",
   "metadata": {},
   "outputs": [
    {
     "name": "stdout",
     "output_type": "stream",
     "text": [
      "torch.Size([32, 64]) tensor([21, 21, 21, 21, 21, 20, 20, 21, 21, 21, 22, 20, 21, 21, 21, 21, 20, 21,\n",
      "        21, 21, 20, 22, 18, 20, 21, 21, 21, 21, 21, 21, 21, 20])\n",
      "torch.Size([32, 64]) tensor([20, 20, 21, 21, 21, 21, 21, 20, 21, 21, 19, 22, 21, 20, 21, 21, 21, 19,\n",
      "        21, 20, 20, 21, 21, 21, 21, 22, 21, 21, 21, 21, 21, 20])\n",
      "torch.Size([32, 64]) tensor([21, 21, 21, 21, 22, 21, 21, 21, 21, 21, 21, 21, 21, 21, 21, 21, 21, 21,\n",
      "        21, 21, 21, 20, 21, 21, 21, 21, 21, 20, 19, 21, 21, 21])\n",
      "torch.Size([32, 64]) tensor([21, 21, 21, 21, 21, 21, 21, 21, 22, 20, 21, 21, 21, 21, 22, 22, 21, 21,\n",
      "        21, 21, 19, 22, 21, 21, 21, 21, 21, 21, 20, 21, 21, 21])\n",
      "torch.Size([32, 64]) tensor([21, 21, 21, 20, 21, 21, 21, 21, 21, 21, 19, 20, 21, 21, 21, 21, 21, 21,\n",
      "        21, 21, 21, 21, 20, 21, 21, 21, 20, 21, 21, 21, 21, 21])\n",
      "torch.Size([32, 64]) tensor([21, 20, 22, 21, 21, 21, 21, 21, 20, 21, 21, 21, 21, 21, 21, 21, 21, 22,\n",
      "        21, 21, 19, 19, 21, 21, 21, 21, 21, 21, 21, 21, 21, 21])\n",
      "torch.Size([32, 64]) tensor([20, 21, 20, 21, 21, 21, 21, 20, 19, 21, 20, 21, 21, 21, 20, 21, 20, 21,\n",
      "        22, 21, 21, 21, 21, 21, 21, 22, 21, 19, 20, 21, 21, 21])\n",
      "torch.Size([32, 64]) tensor([21, 21, 21, 21, 20, 21, 21, 21, 20, 20, 21, 21, 20, 20, 20, 21, 21, 21,\n",
      "        21, 20, 21, 21, 21, 21, 21, 21, 21, 21, 21, 20, 19, 21])\n",
      "torch.Size([32, 64]) tensor([21, 21, 21, 20, 20, 21, 21, 21, 21, 21, 21, 21, 21, 21, 20, 21, 21, 21,\n",
      "        21, 20, 21, 21, 21, 21, 21, 21, 21, 20, 21, 21, 19, 20])\n",
      "torch.Size([32, 64]) tensor([20, 21, 21, 21, 21, 21, 20, 18, 21, 21, 21, 20, 21, 21, 21, 21, 22, 21,\n",
      "        19, 21, 21, 20, 21, 21, 21, 20, 20, 21, 21, 21, 21, 21])\n",
      "torch.Size([32, 64]) tensor([20, 21, 21, 21, 20, 21, 21, 21, 21, 21, 21, 21, 22, 20, 21, 21, 20, 21,\n",
      "        21, 21, 19, 20, 21, 21, 21, 19, 21, 21, 21, 21, 20, 21])\n",
      "torch.Size([32, 64]) tensor([21, 21, 21, 21, 21, 20, 21, 21, 21, 20, 22, 21, 21, 21, 21, 21, 21, 21,\n",
      "        21, 21, 21, 21, 21, 21, 21, 21, 21, 21, 20, 21, 21, 21])\n",
      "torch.Size([32, 64]) tensor([20, 19, 20, 21, 21, 20, 21, 21, 21, 21, 20, 21, 20, 21, 21, 21, 21, 21,\n",
      "        21, 21, 20, 21, 21, 21, 21, 21, 21, 21, 21, 21, 21, 21])\n",
      "torch.Size([32, 64]) tensor([21, 21, 21, 21, 21, 21, 21, 21, 21, 21, 21, 21, 21, 21, 21, 21, 21, 20,\n",
      "        21, 20, 21, 21, 21, 22, 21, 20, 21, 21, 22, 21, 21, 21])\n",
      "torch.Size([32, 64]) tensor([21, 21, 21, 20, 21, 21, 21, 22, 21, 21, 21, 20, 21, 21, 21, 20, 21, 21,\n",
      "        21, 21, 21, 21, 21, 21, 21, 21, 21, 21, 21, 21, 21, 20])\n",
      "torch.Size([32, 64]) tensor([21, 21, 21, 21, 21, 22, 21, 21, 21, 21, 20, 21, 21, 21, 21, 21, 21, 22,\n",
      "        21, 21, 21, 21, 21, 20, 20, 21, 21, 20, 21, 21, 21, 22])\n",
      "torch.Size([32, 64]) tensor([21, 21, 22, 21, 21, 21, 20, 21, 20, 21, 21, 21, 21, 19, 20, 20, 21, 21,\n",
      "        21, 21, 21, 20, 21, 21, 21, 21, 20, 21, 18, 21, 21, 21])\n",
      "torch.Size([32, 64]) tensor([21, 20, 21, 22, 21, 21, 22, 21, 21, 21, 20, 21, 21, 21, 21, 21, 18, 21,\n",
      "        19, 21, 21, 20, 21, 20, 21, 21, 21, 21, 21, 21, 22, 21])\n",
      "torch.Size([32, 64]) tensor([22, 21, 21, 21, 21, 21, 21, 21, 21, 20, 20, 21, 20, 21, 21, 21, 21, 21,\n",
      "        21, 21, 21, 21, 21, 21, 21, 21, 21, 21, 20, 21, 19, 21])\n",
      "torch.Size([32, 64]) tensor([21, 21, 21, 21, 22, 21, 21, 22, 21, 21, 21, 20, 22, 21, 21, 21, 21, 21,\n",
      "        21, 21, 21, 21, 21, 21, 21, 21, 21, 21, 20, 20, 22, 21])\n",
      "torch.Size([32, 64]) tensor([21, 20, 21, 21, 21, 21, 21, 21, 20, 21, 21, 21, 20, 21, 21, 21, 20, 21,\n",
      "        21, 21, 21, 21, 21, 21, 19, 20, 21, 21, 21, 21, 21, 21])\n",
      "torch.Size([32, 64]) tensor([21, 21, 21, 21, 21, 21, 19, 21, 21, 21, 21, 22, 21, 22, 21, 18, 21, 21,\n",
      "        21, 19, 21, 21, 21, 21, 21, 21, 20, 21, 21, 21, 21, 21])\n",
      "torch.Size([32, 64]) tensor([21, 21, 21, 21, 21, 21, 21, 21, 21, 21, 21, 21, 21, 19, 21, 21, 21, 21,\n",
      "        21, 20, 21, 21, 20, 21, 21, 21, 21, 21, 20, 21, 21, 21])\n",
      "torch.Size([32, 64]) tensor([21, 21, 21, 21, 21, 20, 21, 21, 21, 21, 21, 21, 21, 21, 21, 20, 21, 21,\n",
      "        21, 21, 20, 19, 21, 21, 21, 21, 21, 21, 21, 21, 21, 21])\n",
      "torch.Size([32, 64]) tensor([21, 22, 21, 21, 21, 20, 21, 19, 21, 20, 21, 21, 21, 21, 21, 21, 21, 21,\n",
      "        21, 20, 20, 21, 21, 21, 21, 21, 21, 20, 21, 21, 21, 21])\n",
      "torch.Size([32, 64]) tensor([21, 21, 21, 21, 20, 21, 21, 21, 21, 21, 21, 19, 22, 20, 21, 21, 21, 21,\n",
      "        21, 21, 21, 22, 21, 21, 21, 21, 21, 21, 21, 21, 21, 21])\n",
      "torch.Size([32, 64]) tensor([19, 21, 22, 21, 21, 20, 21, 21, 20, 21, 21, 21, 21, 21, 21, 21, 21, 21,\n",
      "        21, 21, 21, 21, 21, 21, 21, 21, 21, 21, 21, 22, 21, 21])\n",
      "torch.Size([32, 64]) tensor([21, 21, 21, 22, 20, 20, 19, 21, 21, 21, 21, 21, 21, 21, 21, 20, 21, 21,\n",
      "        21, 21, 21, 21, 21, 20, 21, 21, 21, 21, 22, 21, 20, 21])\n",
      "torch.Size([32, 64]) tensor([21, 20, 17, 22, 21, 21, 21, 22, 21, 21, 21, 21, 21, 21, 21, 21, 20, 21,\n",
      "        21, 21, 21, 21, 20, 21, 21, 21, 21, 21, 21, 20, 21, 21])\n",
      "torch.Size([32, 64]) tensor([21, 21, 21, 21, 20, 19, 21, 21, 21, 21, 21, 20, 21, 21, 21, 19, 21, 21,\n",
      "        21, 21, 21, 21, 21, 21, 21, 21, 21, 21, 21, 21, 21, 21])\n",
      "torch.Size([32, 64]) tensor([21, 20, 20, 21, 21, 21, 21, 21, 21, 20, 21, 21, 21, 21, 21, 21, 20, 21,\n",
      "        21, 22, 21, 21, 21, 21, 20, 21, 21, 21, 21, 21, 21, 21])\n",
      "torch.Size([32, 64]) tensor([21, 21, 20, 21, 21, 20, 21, 21, 20, 21, 20, 20, 21, 21, 21, 21, 22, 21,\n",
      "        20, 21, 21, 20, 21, 21, 20, 21, 20, 21, 21, 21, 22, 21])\n",
      "torch.Size([32, 64]) tensor([21, 21, 21, 21, 21, 21, 21, 21, 20, 21, 21, 19, 21, 21, 21, 20, 20, 19,\n",
      "        19, 21, 21, 21, 21, 21, 22, 21, 19, 21, 21, 20, 21, 21])\n",
      "torch.Size([32, 64]) tensor([21, 21, 21, 21, 21, 21, 21, 22, 21, 21, 21, 21, 22, 20, 21, 20, 21, 21,\n",
      "        21, 21, 21, 20, 21, 20, 21, 21, 21, 21, 21, 21, 20, 21])\n",
      "torch.Size([32, 64]) tensor([20, 21, 21, 21, 20, 21, 20, 21, 21, 21, 21, 21, 21, 21, 21, 21, 20, 21,\n",
      "        21, 21, 21, 22, 21, 21, 21, 22, 21, 20, 22, 21, 21, 21])\n",
      "torch.Size([32, 64]) tensor([21, 21, 21, 19, 21, 21, 22, 21, 20, 21, 21, 21, 21, 21, 21, 21, 21, 21,\n",
      "        22, 21, 21, 20, 21, 21, 22, 21, 20, 21, 21, 20, 21, 21])\n",
      "torch.Size([32, 64]) tensor([21, 21, 19, 21, 21, 21, 21, 21, 21, 21, 21, 21, 20, 21, 21, 21, 21, 22,\n",
      "        21, 21, 21, 20, 21, 21, 22, 21, 22, 21, 21, 20, 21, 21])\n",
      "torch.Size([32, 64]) tensor([20, 22, 20, 21, 21, 21, 21, 21, 21, 21, 21, 21, 21, 21, 21, 19, 21, 21,\n",
      "        21, 21, 21, 21, 21, 20, 21, 21, 21, 21, 19, 20, 21, 20])\n",
      "torch.Size([32, 64]) tensor([21, 21, 21, 21, 21, 22, 21, 22, 21, 21, 21, 20, 21, 21, 21, 22, 21, 21,\n",
      "        21, 21, 20, 21, 21, 21, 21, 21, 21, 21, 20, 19, 21, 21])\n",
      "torch.Size([32, 64]) tensor([20, 21, 20, 21, 21, 21, 21, 20, 22, 19, 20, 21, 21, 21, 22, 21, 20, 21,\n",
      "        21, 20, 22, 21, 21, 21, 21, 21, 21, 21, 21, 21, 20, 19])\n",
      "torch.Size([32, 64]) tensor([21, 21, 19, 21, 21, 20, 21, 21, 20, 21, 21, 21, 21, 21, 21, 21, 22, 21,\n",
      "        21, 19, 21, 21, 21, 21, 21, 21, 21, 21, 21, 21, 21, 21])\n",
      "torch.Size([32, 64]) tensor([21, 20, 21, 20, 21, 21, 21, 21, 21, 21, 21, 20, 21, 21, 21, 21, 21, 21,\n",
      "        21, 21, 21, 21, 21, 20, 21, 21, 21, 21, 19, 21, 21, 20])\n",
      "torch.Size([32, 64]) tensor([20, 20, 21, 21, 21, 21, 21, 21, 21, 21, 21, 21, 21, 21, 21, 21, 21, 20,\n",
      "        20, 21, 22, 19, 21, 21, 21, 21, 21, 22, 22, 21, 21, 21])\n",
      "torch.Size([32, 64]) tensor([22, 21, 21, 21, 21, 21, 21, 21, 21, 21, 21, 21, 21, 19, 21, 21, 21, 21,\n",
      "        21, 21, 20, 21, 21, 21, 22, 21, 22, 21, 21, 21, 21, 21])\n",
      "torch.Size([32, 64]) tensor([21, 21, 21, 21, 21, 20, 21, 20, 20, 21, 21, 21, 21, 21, 21, 21, 21, 21,\n",
      "        21, 20, 21, 21, 21, 21, 21, 20, 21, 21, 21, 22, 21, 21])\n",
      "torch.Size([32, 64]) tensor([21, 21, 22, 21, 21, 20, 21, 19, 21, 20, 21, 21, 21, 21, 21, 20, 19, 20,\n",
      "        20, 21, 21, 21, 20, 19, 21, 21, 20, 21, 20, 21, 20, 19])\n",
      "torch.Size([32, 64]) tensor([21, 21, 21, 20, 21, 20, 21, 21, 21, 21, 21, 21, 21, 21, 20, 21, 21, 21,\n",
      "        21, 21, 21, 21, 21, 21, 21, 21, 21, 21, 20, 19, 21, 21])\n",
      "torch.Size([32, 64]) tensor([21, 21, 21, 21, 21, 21, 21, 21, 22, 21, 21, 22, 20, 20, 21, 21, 22, 21,\n",
      "        21, 21, 21, 21, 21, 22, 21, 21, 21, 21, 21, 21, 20, 21])\n",
      "torch.Size([32, 64]) tensor([21, 22, 21, 21, 21, 20, 19, 21, 21, 20, 21, 21, 21, 21, 21, 21, 21, 21,\n",
      "        21, 21, 21, 21, 21, 21, 21, 20, 21, 21, 21, 21, 22, 21])\n",
      "torch.Size([32, 64]) tensor([20, 21, 21, 20, 21, 21, 20, 21, 21, 21, 20, 21, 21, 21, 21, 21, 21, 21,\n",
      "        20, 20, 21, 21, 21, 21, 22, 21, 21, 21, 18, 21, 21, 21])\n",
      "torch.Size([32, 64]) tensor([21, 21, 21, 21, 21, 22, 21, 21, 21, 21, 21, 21, 21, 21, 21, 20, 21, 20,\n",
      "        21, 21, 21, 21, 21, 21, 21, 21, 20, 21, 21, 21, 21, 21])\n",
      "torch.Size([32, 64]) tensor([21, 21, 21, 21, 20, 21, 21, 21, 21, 20, 21, 21, 21, 21, 21, 21, 21, 21,\n",
      "        21, 21, 19, 21, 21, 21, 20, 21, 21, 20, 20, 21, 21, 20])\n",
      "torch.Size([32, 64]) tensor([21, 21, 20, 21, 21, 20, 21, 21, 21, 22, 21, 20, 21, 21, 21, 22, 21, 21,\n",
      "        21, 21, 21, 21, 20, 21, 21, 21, 20, 21, 21, 21, 21, 21])\n",
      "torch.Size([32, 64]) tensor([21, 21, 21, 21, 21, 21, 20, 19, 20, 21, 21, 21, 21, 20, 21, 21, 20, 21,\n",
      "        20, 20, 20, 21, 21, 21, 21, 20, 20, 21, 21, 21, 20, 21])\n",
      "torch.Size([32, 64]) tensor([20, 21, 21, 20, 21, 20, 21, 21, 21, 21, 21, 21, 21, 21, 21, 21, 21, 21,\n",
      "        22, 21, 20, 21, 21, 21, 21, 21, 21, 21, 21, 21, 20, 21])\n",
      "torch.Size([32, 64]) tensor([21, 21, 21, 21, 20, 20, 20, 21, 20, 21, 20, 21, 21, 21, 21, 21, 20, 22,\n",
      "        20, 21, 21, 21, 21, 22, 22, 21, 21, 20, 21, 20, 19, 21])\n",
      "torch.Size([32, 64]) tensor([20, 21, 21, 22, 21, 22, 21, 21, 21, 21, 21, 21, 20, 21, 21, 21, 20, 21,\n",
      "        21, 21, 21, 21, 21, 21, 21, 21, 21, 22, 21, 21, 21, 21])\n",
      "torch.Size([32, 64]) tensor([21, 21, 21, 21, 21, 21, 20, 20, 21, 20, 21, 21, 22, 21, 22, 21, 21, 21,\n",
      "        20, 20, 21, 21, 21, 21, 21, 21, 19, 21, 20, 20, 20, 21])\n"
     ]
    },
    {
     "name": "stdout",
     "output_type": "stream",
     "text": [
      "torch.Size([32, 64]) tensor([21, 20, 21, 21, 21, 21, 20, 21, 21, 21, 21, 21, 20, 21, 21, 20, 20, 21,\n",
      "        21, 21, 21, 21, 20, 21, 21, 21, 21, 21, 21, 21, 21, 21])\n",
      "torch.Size([32, 64]) tensor([21, 22, 20, 21, 21, 19, 21, 20, 21, 21, 21, 21, 21, 22, 21, 21, 21, 21,\n",
      "        21, 21, 21, 21, 21, 22, 22, 21, 21, 21, 20, 21, 21, 21])\n",
      "torch.Size([32, 64]) tensor([21, 21, 21, 21, 21, 21, 21, 21, 21, 21, 20, 21, 21, 20, 21, 21, 21, 21,\n",
      "        21, 21, 21, 21, 18, 21, 21, 20, 21, 21, 22, 21, 21, 20])\n",
      "torch.Size([32, 64]) tensor([21, 21, 19, 21, 20, 21, 21, 21, 21, 21, 21, 21, 19, 21, 21, 21, 21, 21,\n",
      "        20, 21, 21, 21, 21, 21, 21, 21, 21, 20, 21, 21, 21, 21])\n",
      "torch.Size([32, 64]) tensor([21, 21, 21, 21, 21, 19, 21, 21, 21, 21, 21, 21, 20, 20, 21, 21, 20, 20,\n",
      "        21, 21, 21, 21, 21, 21, 20, 20, 19, 21, 22, 19, 22, 21])\n",
      "torch.Size([32, 64]) tensor([21, 21, 20, 21, 21, 21, 21, 21, 21, 21, 21, 21, 20, 21, 21, 20, 21, 21,\n",
      "        21, 21, 20, 21, 21, 21, 21, 20, 21, 21, 20, 21, 20, 20])\n",
      "torch.Size([32, 64]) tensor([21, 21, 19, 21, 21, 21, 21, 21, 21, 21, 21, 21, 20, 19, 21, 21, 19, 20,\n",
      "        21, 21, 19, 21, 20, 21, 21, 21, 20, 21, 21, 21, 21, 21])\n",
      "torch.Size([32, 64]) tensor([21, 21, 20, 21, 21, 21, 22, 21, 21, 21, 21, 21, 22, 21, 21, 21, 20, 21,\n",
      "        21, 21, 21, 21, 21, 21, 21, 21, 21, 20, 21, 20, 21, 21])\n",
      "torch.Size([32, 64]) tensor([21, 21, 21, 20, 21, 21, 21, 21, 21, 21, 21, 21, 21, 21, 21, 19, 20, 21,\n",
      "        21, 21, 21, 21, 21, 21, 21, 21, 21, 21, 20, 21, 21, 21])\n",
      "torch.Size([32, 64]) tensor([21, 21, 21, 21, 21, 19, 20, 21, 22, 21, 21, 21, 21, 20, 20, 21, 19, 21,\n",
      "        19, 21, 19, 22, 21, 21, 21, 21, 21, 21, 22, 21, 19, 21])\n",
      "torch.Size([32, 64]) tensor([21, 21, 21, 21, 21, 21, 21, 21, 20, 20, 20, 21, 21, 19, 21, 20, 21, 20,\n",
      "        21, 20, 20, 20, 20, 21, 21, 21, 21, 21, 21, 21, 21, 20])\n",
      "torch.Size([32, 64]) tensor([21, 21, 20, 21, 20, 21, 21, 21, 21, 21, 20, 21, 21, 21, 21, 21, 21, 21,\n",
      "        21, 21, 21, 21, 21, 20, 21, 20, 21, 20, 21, 21, 21, 21])\n",
      "torch.Size([32, 64]) tensor([21, 21, 21, 21, 21, 21, 21, 21, 21, 21, 21, 21, 21, 20, 21, 22, 20, 22,\n",
      "        21, 20, 20, 21, 21, 21, 20, 21, 21, 21, 21, 21, 21, 21])\n",
      "torch.Size([32, 64]) tensor([21, 21, 21, 20, 20, 19, 22, 21, 20, 22, 21, 21, 21, 21, 21, 21, 21, 22,\n",
      "        21, 21, 22, 21, 20, 20, 21, 20, 20, 21, 21, 19, 21, 22])\n",
      "torch.Size([32, 64]) tensor([21, 22, 20, 21, 21, 21, 19, 21, 21, 21, 20, 22, 21, 21, 21, 20, 21, 21,\n",
      "        20, 19, 20, 21, 20, 21, 21, 20, 21, 20, 21, 21, 20, 21])\n",
      "torch.Size([32, 64]) tensor([21, 21, 21, 21, 21, 21, 21, 21, 21, 21, 21, 21, 21, 20, 21, 20, 21, 21,\n",
      "        21, 21, 21, 20, 21, 21, 21, 21, 21, 21, 21, 20, 19, 21])\n",
      "torch.Size([32, 64]) tensor([21, 21, 20, 22, 21, 21, 21, 21, 21, 21, 21, 21, 21, 21, 20, 22, 21, 21,\n",
      "        21, 21, 21, 21, 21, 21, 21, 21, 21, 20, 21, 21, 21, 21])\n",
      "torch.Size([32, 64]) tensor([21, 21, 21, 21, 21, 21, 21, 21, 21, 21, 20, 21, 21, 21, 21, 20, 21, 21,\n",
      "        21, 21, 21, 21, 21, 20, 21, 19, 22, 21, 21, 21, 21, 20])\n",
      "torch.Size([32, 64]) tensor([21, 21, 21, 21, 22, 20, 21, 21, 21, 22, 22, 21, 21, 21, 21, 21, 21, 21,\n",
      "        20, 21, 21, 21, 20, 21, 21, 21, 21, 21, 21, 21, 21, 20])\n",
      "torch.Size([32, 64]) tensor([21, 20, 20, 21, 21, 19, 21, 21, 21, 21, 21, 21, 20, 21, 21, 21, 21, 20,\n",
      "        22, 20, 21, 22, 21, 19, 20, 20, 21, 21, 21, 21, 21, 22])\n",
      "torch.Size([32, 64]) tensor([21, 21, 21, 21, 21, 21, 20, 21, 21, 21, 21, 21, 21, 21, 21, 21, 21, 21,\n",
      "        21, 20, 22, 20, 21, 20, 21, 21, 21, 21, 21, 20, 21, 21])\n",
      "torch.Size([32, 64]) tensor([21, 20, 20, 21, 21, 21, 21, 21, 20, 21, 21, 21, 21, 21, 20, 19, 21, 21,\n",
      "        21, 22, 21, 20, 21, 21, 21, 20, 21, 21, 20, 21, 21, 21])\n",
      "torch.Size([32, 64]) tensor([20, 21, 21, 21, 22, 19, 21, 21, 20, 21, 21, 21, 21, 21, 21, 21, 20, 21,\n",
      "        21, 21, 20, 21, 20, 21, 21, 21, 20, 22, 21, 21, 21, 20])\n",
      "torch.Size([32, 64]) tensor([21, 21, 19, 21, 20, 20, 21, 21, 19, 21, 21, 20, 22, 21, 21, 21, 20, 21,\n",
      "        21, 21, 20, 22, 21, 20, 21, 21, 21, 21, 21, 21, 21, 21])\n",
      "torch.Size([32, 64]) tensor([21, 21, 21, 21, 21, 21, 20, 21, 20, 21, 21, 21, 19, 21, 22, 21, 21, 21,\n",
      "        21, 20, 21, 20, 21, 21, 21, 21, 21, 20, 20, 19, 21, 20])\n",
      "torch.Size([32, 64]) tensor([20, 21, 21, 21, 20, 22, 20, 20, 21, 21, 21, 21, 21, 21, 21, 21, 21, 21,\n",
      "        19, 20, 21, 21, 20, 21, 21, 21, 21, 21, 21, 21, 21, 21])\n",
      "torch.Size([32, 64]) tensor([21, 21, 21, 21, 21, 21, 21, 21, 20, 21, 21, 21, 21, 22, 20, 21, 20, 21,\n",
      "        20, 21, 21, 21, 22, 21, 21, 21, 21, 20, 21, 21, 21, 21])\n",
      "torch.Size([32, 64]) tensor([21, 21, 21, 21, 21, 21, 21, 21, 21, 20, 21, 20, 21, 21, 21, 20, 21, 21,\n",
      "        21, 21, 20, 21, 22, 19, 21, 20, 21, 20, 21, 21, 21, 21])\n",
      "torch.Size([32, 64]) tensor([21, 19, 20, 21, 21, 21, 21, 21, 21, 21, 21, 21, 21, 22, 20, 21, 20, 21,\n",
      "        21, 21, 21, 21, 21, 21, 20, 22, 20, 20, 20, 20, 21, 20])\n",
      "torch.Size([32, 64]) tensor([21, 21, 21, 21, 21, 20, 22, 21, 21, 21, 20, 21, 20, 20, 21, 21, 21, 21,\n",
      "        21, 21, 21, 20, 21, 21, 21, 21, 21, 21, 21, 21, 21, 20])\n",
      "torch.Size([32, 64]) tensor([21, 21, 21, 21, 21, 21, 21, 21, 21, 21, 21, 21, 21, 21, 22, 21, 21, 20,\n",
      "        22, 22, 21, 21, 21, 20, 21, 21, 21, 21, 21, 21, 21, 20])\n",
      "torch.Size([32, 64]) tensor([21, 21, 20, 21, 21, 21, 20, 21, 21, 21, 21, 21, 21, 21, 21, 22, 21, 21,\n",
      "        19, 21, 20, 22, 21, 22, 21, 20, 22, 20, 21, 21, 21, 20])\n",
      "torch.Size([32, 64]) tensor([21, 19, 21, 21, 21, 21, 21, 21, 21, 21, 20, 19, 21, 21, 21, 21, 21, 21,\n",
      "        21, 21, 21, 21, 21, 21, 21, 21, 19, 21, 21, 21, 21, 21])\n",
      "torch.Size([32, 64]) tensor([21, 21, 21, 21, 21, 20, 21, 20, 21, 21, 21, 21, 21, 21, 21, 21, 20, 21,\n",
      "        21, 19, 19, 21, 21, 21, 21, 21, 20, 21, 21, 21, 21, 21])\n",
      "torch.Size([32, 64]) tensor([21, 20, 21, 20, 21, 21, 21, 21, 20, 21, 21, 21, 21, 21, 20, 21, 21, 21,\n",
      "        19, 21, 21, 21, 20, 20, 21, 20, 21, 21, 21, 21, 21, 21])\n",
      "torch.Size([32, 64]) tensor([21, 20, 21, 19, 21, 20, 22, 20, 21, 21, 21, 21, 20, 21, 21, 21, 21, 21,\n",
      "        21, 21, 21, 21, 20, 21, 21, 21, 21, 21, 21, 21, 21, 20])\n",
      "torch.Size([32, 64]) tensor([20, 21, 20, 21, 20, 21, 21, 21, 20, 21, 21, 21, 20, 22, 21, 21, 21, 21,\n",
      "        21, 21, 21, 22, 22, 21, 20, 21, 20, 21, 21, 20, 21, 21])\n",
      "torch.Size([32, 64]) tensor([21, 21, 21, 21, 21, 21, 21, 21, 21, 21, 21, 20, 21, 21, 21, 20, 20, 21,\n",
      "        21, 20, 20, 21, 20, 21, 21, 22, 21, 20, 22, 21, 21, 22])\n",
      "torch.Size([32, 64]) tensor([22, 20, 21, 21, 21, 21, 21, 21, 20, 22, 21, 21, 21, 21, 21, 20, 21, 21,\n",
      "        21, 19, 20, 21, 21, 21, 20, 21, 21, 20, 21, 21, 21, 21])\n",
      "torch.Size([32, 64]) tensor([21, 22, 22, 21, 21, 21, 21, 21, 20, 21, 21, 21, 21, 21, 20, 22, 21, 22,\n",
      "        21, 21, 21, 19, 19, 21, 21, 20, 21, 21, 21, 21, 21, 21])\n",
      "torch.Size([32, 64]) tensor([21, 21, 21, 21, 21, 21, 21, 21, 21, 21, 21, 20, 21, 20, 21, 21, 20, 21,\n",
      "        21, 21, 20, 21, 21, 19, 21, 21, 21, 19, 21, 22, 22, 20])\n",
      "torch.Size([32, 64]) tensor([21, 21, 21, 20, 21, 21, 20, 21, 21, 21, 21, 21, 21, 22, 21, 21, 20, 19,\n",
      "        19, 21, 20, 21, 21, 21, 21, 21, 21, 20, 21, 21, 21, 21])\n",
      "torch.Size([32, 64]) tensor([21, 21, 21, 21, 21, 21, 21, 21, 21, 20, 21, 21, 21, 21, 21, 21, 21, 21,\n",
      "        21, 21, 21, 19, 21, 21, 19, 21, 21, 21, 22, 21, 20, 20])\n"
     ]
    }
   ],
   "source": [
    "for batch_idx, (images, tokens) in enumerate(dataloader):\n",
    "    print(tokens.shape, tokens.argmax(dim=-1))\n",
    "    \n",
    "    if batch_idx>=100:\n",
    "        break"
   ]
  },
  {
   "cell_type": "code",
   "execution_count": 17,
   "id": "934c502f",
   "metadata": {},
   "outputs": [
    {
     "data": {
      "text/plain": [
       "tensor([21, 21, 21, 21, 21, 20, 21, 21, 21, 21, 20, 21, 21, 21, 21, 21, 21, 21,\n",
       "        21, 21, 21, 21, 21, 19, 22, 21, 21, 21, 21, 21, 20, 19],\n",
       "       dtype=torch.int32)"
      ]
     },
     "execution_count": 17,
     "metadata": {},
     "output_type": "execute_result"
    }
   ],
   "source": [
    "condition.argmax(dim=-1).to(torch.int32)"
   ]
  },
  {
   "cell_type": "code",
   "execution_count": 7,
   "id": "15678964",
   "metadata": {},
   "outputs": [],
   "source": [
    "np.save('test_data.npy', something.cpu().numpy())"
   ]
  },
  {
   "cell_type": "code",
   "execution_count": 8,
   "id": "4b455604",
   "metadata": {},
   "outputs": [],
   "source": [
    "np.save('test_data_text.npy', condition.cpu().numpy())"
   ]
  },
  {
   "cell_type": "code",
   "execution_count": 3,
   "id": "3f15f1be",
   "metadata": {},
   "outputs": [],
   "source": [
    "text = torch.from_numpy(np.random.randint(32,50,[32,64]))"
   ]
  },
  {
   "cell_type": "code",
   "execution_count": 4,
   "id": "5d6c3fe6",
   "metadata": {},
   "outputs": [
    {
     "data": {
      "text/plain": [
       "torch.Size([32, 64])"
      ]
     },
     "execution_count": 4,
     "metadata": {},
     "output_type": "execute_result"
    }
   ],
   "source": [
    "text.shape"
   ]
  },
  {
   "cell_type": "code",
   "execution_count": 5,
   "id": "c8f51a01",
   "metadata": {},
   "outputs": [
    {
     "name": "stdout",
     "output_type": "stream",
     "text": [
      "50\n"
     ]
    },
    {
     "data": {
      "text/plain": [
       "torch.Size([32, 128])"
      ]
     },
     "execution_count": 5,
     "metadata": {},
     "output_type": "execute_result"
    }
   ],
   "source": [
    "txt_encoder = text_encoder()\n",
    "txt_encoder(text).shape"
   ]
  },
  {
   "cell_type": "code",
   "execution_count": null,
   "id": "d5affd82",
   "metadata": {},
   "outputs": [],
   "source": []
  }
 ],
 "metadata": {
  "kernelspec": {
   "display_name": "Python 3 (ipykernel)",
   "language": "python",
   "name": "python3"
  },
  "language_info": {
   "codemirror_mode": {
    "name": "ipython",
    "version": 3
   },
   "file_extension": ".py",
   "mimetype": "text/x-python",
   "name": "python",
   "nbconvert_exporter": "python",
   "pygments_lexer": "ipython3",
   "version": "3.8.10"
  }
 },
 "nbformat": 4,
 "nbformat_minor": 5
}
